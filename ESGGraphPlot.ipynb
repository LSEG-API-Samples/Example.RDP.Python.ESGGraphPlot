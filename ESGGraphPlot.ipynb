{
 "cells": [
  {
   "cell_type": "markdown",
   "metadata": {},
   "source": [
    "# Using EDP API to request ESG data on Jupyter Notebook\n",
    "\n",
    "## INTRODUCTION\n",
    "\n",
    "Environmental, Social and Governance (ESG) is a set of standards for a company's operations that investors use to evaluate corporate behavior, determine the future financial performance and decide whether it will be beneficial to invest in a company or not. The ESG information from Refinitv enables our clients to benchmark, compare and integrate extra-financial information into their investment processes to identify companies with quality management and reduced risk exposure. Please refer to the [ESG Learning Section](https://developers.refinitiv.com/elektron-data-platform/elektron-data-platform-apis/learning?content=62732&type=learning_material_item) on the [Developer Community](https://developers.refinitiv.com/) for more details about the ESG data and its coverage provided by Refinitiv.\n",
    "\n",
    "This article will demonstrate how we can retrieve [ESG data](https://developers.refinitiv.com/content/edp-esg-quick-start-video) from [Elektron Data Platform (EDP)](https://developers.refinitiv.com/elektron-data-platform/elektron-data-platform-apis). We will be using Python with EDP API to request ESG data on the [Jupyter Notebook](https://jupyter.org/index.html). The notebook allows the user to create and share documents that contain live code, narrative text, visualizations and we can also plot the graph on the notebook.\n",
    "\n",
    "The Jupyter Notebook with Python codes will be provided on GitHub.\n",
    "\n",
    "## PRE-REQUISITES:\n",
    "\n",
    "* Python 3.6 or later version.\n",
    "* Required Python Packages: getpass, json, requests, pandas, numpy, matplotlib.\n",
    "* [Jupyter Notebook](https://jupyter.org/install). You can install Jupyter Notebook on your local machine and then test the example on the machine. Alternate choice is a free Juputer Notebook on cloud environment such as [Azure Notebook](https://notebooks.azure.com/) provided by Microsoft. You can find more details from [this tutorial](https://docs.microsoft.com/en-us/azure/notebooks/tutorial-create-run-jupyter-notebook).\n",
    "* EDP account with a permission to access ESG basic or premium data. \n",
    "\n",
    "## IMPREMENTATIONS\n",
    "\n",
    "There are two main steps for the implementation according to [the tutorial](https://developers.refinitiv.com/elektron-data-platform/elektron-data-platform-apis/learning?content=62732&type=learning_material_item).\n",
    "\n",
    "* Get Access Token from EDP Authentication Endpoint.\n",
    "* Get specific ESG data like the basic score from the REST endpoint. \n",
    "* Display data and plot a graph.\n"
   ]
  },
  {
   "cell_type": "markdown",
   "metadata": {},
   "source": [
    "### Get Access Token\n",
    "\n",
    "__Get EDP Username and Password__\n",
    "\n",
    "The user must have a valid EDP account with a permission to access ESG data. The application will use getpass to get the username and password from user."
   ]
  },
  {
   "cell_type": "code",
   "execution_count": 3,
   "metadata": {
    "scrolled": true
   },
   "outputs": [
    {
     "name": "stdout",
     "output_type": "stream",
     "text": [
      "Enter EDP username:GE-A-01103867-3-1175\n",
      "Enter EDP Password:········\n"
     ]
    }
   ],
   "source": [
    "import getpass as gp\n",
    "\n",
    "username=input('Enter EDP username:')\n",
    "password=gp.getpass('Enter EDP Password:')"
   ]
  },
  {
   "cell_type": "markdown",
   "metadata": {},
   "source": [
    "__Get access token from authentication endpoint__\n",
    "\n",
    "The application send HTTP post and pass required parameter according to the [EDP tutorial](https://developers.refinitiv.com/elektron-data-platform/elektron-data-platform-apis/learning?content=38562&type=learning_material_item) to get the Access Token from EDP server.\n"
   ]
  },
  {
   "cell_type": "code",
   "execution_count": 4,
   "metadata": {},
   "outputs": [],
   "source": [
    "from json import dumps, loads, load\n",
    "from requests import post,get\n",
    "\n",
    "#Get access token from EDP server \n",
    "getTokenEndpoint=\"https://api.refinitiv.com/auth/oauth2/beta1/token\"\n",
    "refreshToken=None\n",
    "accessToken=None\n",
    "_header= {}\n",
    "_header['Accept']='application/json'\n",
    "_params={}\n",
    "\n",
    "if refreshToken is None:\n",
    "    _params={\n",
    "        \"username\": username,\n",
    "        \"password\": password,\n",
    "        \"grant_type\": \"password\",\n",
    "        \"scope\": \"trapi\",\n",
    "        \"takeExclusiveSignOnControl\": \"true\"\n",
    "    }\n",
    "else:\n",
    "    _params={\n",
    "\t\t\t\"refresh_token\": refreshToken,\n",
    "\t\t\t\"username\": username,\n",
    "\t\t\t\"grant_type\": \"refresh_token\"\n",
    "    }\n",
    "\n",
    "resp=post(url=getTokenEndpoint,data=_params,headers=_header,auth=(username,\"\"))"
   ]
  },
  {
   "cell_type": "markdown",
   "metadata": {},
   "source": [
    "If the returned status code from HTTP response is not 200 (OK), we assume that there is an error occurred, therefore, the application will print the status code and the response status message then exit the application. Otherwise, get the Refresh Token and Access Token from the HTTP response message and print it out."
   ]
  },
  {
   "cell_type": "code",
   "execution_count": 5,
   "metadata": {},
   "outputs": [
    {
     "name": "stdout",
     "output_type": "stream",
     "text": [
      "Refresh Token: 324e5192-bff1-46e4-b2e1-0ed30ff77fc1\n",
      "Access Token: eyJ0eXAiOiJKV1QiLCJhbGciOiJSUzI1NiIsImtpZCI6IjNKZnZZOWNYaEtoVndDRmU1a29MdWpPektQdnNtUnZ0TXRXMHZYYWpqVXcifQ.eyJkYXRhIjoie1wiY2lwaGVydGV4dFwiOlwiUUZVV2dmUVBfU3hnby1sNi1tbUlHRkdVQkUwYmZIQmI1QzdOVmV4OGx3a0VOWlRDTzB0N3RjOFRISHdId2lIbUVUZXE2Y2lkOFR0RGo2UmZNektpdXBpNjJ0MWpkT0VINWtmUjUySlU0Y3ZjN2M2c21KODE2MXRpUWttemZlNzFEaXlrTmwzejZnODdjVzJIb2hjeHR3MEJRWTM5VTdTTHphR2FqQ1hjeldNVzRQMDQyemg5VWdTeHVKaEtudm9Bd1NNbUdSM1M2VVRsNThwUXVEMXlWVmJpYThQdUloWE9uNE1wdGpFcFlMcFNINFdXX3k1WFJ6VjBhT2U1U2ZBMlY3bDAyeTkyX1U3N0ZjVFBQQjYyS3VxZ0NTelo2UHlMV2hKczI2T0ROUkdRZ1VYYWRaV3lVQmJycDJQTTJrV2pSbGotOTEwc0lSQzg4WFA3RWtlbFItT1dZRFV5ZE12N21TdXZqaFVmSGE3NnJ2aHB2VGtnbDVpWk1JZGhoek5CQURIZVhUdVFQOFlZTU1GS1dPWUhGdjhZRVRXck0zSVRBTXQxZ2tManVPYXpHTU5JeV9DRnk5MmdGN2FfWFpSeHRQVi0zSzNXLXpGZGdBTDloa3NkRmN2MWliSjIwUjItY01yOWxtTVVIVmRQX1JZclN4VnN4UzE3VlduNDd1T2V5LXZ1d0V6dkl3SVpSbjlXN09VMFNsVExBWVpxRTFuckYydDRHd3A4VTlBa084ME9NZzN6TWZ3WlVnWlM1di15MnB3UGp0ZVpOeTR5bVRuNkdiN1YzYnE0MldZNjNneW5oWE9TZjMyUFpuVVhkblp6Z25wbWIyT0ZaWHZRWUNFOVJZQXgzSmt3a2hxVW5YcGhUR3A0QV9IUWpWanVzcWFNZmZvZW5ibUgyLWZPcWhXeHFLLTk0MmJLRDJhb0FfUm1UZzJJU2FSTkdaQ3pPbzFobFlQTGFWbGticDNnQkhHWFJwbWlDOGEwSlJYdmFkanVCVTdRUndNWkRLUzlEMlJ3UEY1WGhMUDl5SlZYdGl2SlRKZmN2ZW4xNlR6LXNGQTJWdjBqNnBkNlwiLFwiaXZcIjpcIjNOekFaSVVINmFzU2pNVktcIixcInByb3RlY3RlZFwiOlwiZXlKaGJHY2lPaUpCVjFOZlJVNURYMU5FUzE5Qk1qVTJJaXdpWlc1aklqb2lRVEkxTmtkRFRTSXNJbnBwY0NJNklrUkZSaUo5XCIsXCJyZWNpcGllbnRzXCI6W3tcImVuY3J5cHRlZF9rZXlcIjpcIkFRSUJBSGoyeG9kOXZJejFTcDJsbnlBM1pvQWpCcFc4WVNaTHZ1SFg5dDg0X0x4aHF3RzlkRE5raXV2RFQ5NG4xRXpRbW9lMUFBQUFmakI4QmdrcWhraUc5dzBCQndhZ2J6QnRBZ0VBTUdnR0NTcUdTSWIzRFFFSEFUQWVCZ2xnaGtnQlpRTUVBUzR3RVFRTUlaM1plbmlnalZrVnQ4ZmdBZ0VRZ0R2UkNmd2dmZGxfTDhUTXlrTzdtQ20tR1k1N2JpMkxYVTZvUC1HRmtTa1VyVEtIeVdJcHNwUzF3RWZTVzc2eG1ValB6UUx0czAwVTVBUHUwQVwiLFwiaGVhZGVyXCI6e1wia2lkXCI6XCJhcm46YXdzOmttczp1cy1lYXN0LTE6NjQyMTU3MTgxMzI2OmtleS8zNTAzOWJjYi1jYTM1LTRlZGYtYTFhMy0yYzMzNDk1M2IwZTFcIn19LHtcImVuY3J5cHRlZF9rZXlcIjpcIkFRSUNBSGlWaHdFb1JjbG0xRkctajBnUTRxajBzZ0lrOVRESzlpRXB1R3JKbEdmUUFBSEh2cmtqZXI0a0Z2aDJTODdScFl6M0FBQUFmakI4QmdrcWhraUc5dzBCQndhZ2J6QnRBZ0VBTUdnR0NTcUdTSWIzRFFFSEFUQWVCZ2xnaGtnQlpRTUVBUzR3RVFRTU1xSDlLRUZmR1psZ3F0SWpBZ0VRZ0R1V0J3aDRUWUlOSHYzZU1haHBYd0NlZW05SXdLeHlxRkpHQi14TktYTHpUSTRlclI3aUJ3M21kN1ViT2k2TlZxZFN1TmVoTnptMzd5SGRJZ1wiLFwiaGVhZGVyXCI6e1wia2lkXCI6XCJhcm46YXdzOmttczpldS13ZXN0LTE6NjQyMTU3MTgxMzI2OmtleS8yZDFjMDg0ZS05YTBmLTRlNjQtYTUxZS03NjAwMTU2NmExOTVcIn19XSxcInRhZ1wiOlwiaHlhazJvZE94Z3VPclBHWjh5VHktQVwifSIsInJzMSI6IjJhMjc4MTFiMDIxNjE5ZjUwYmMxNmU1Zjc3MjM4YjAxN2ZkYmNlODEiLCJhdWQiOiJHRS1BLTAxMTAzODY3LTMtMTE3NSIsImlzcyI6Imh0dHBzOi8vZmluYW5jaWFsLnRob21zb25yZXV0ZXJzLmNvbS9hcGkvaWRlbnRpdHkvc3RzX3Byb2QiLCJleHAiOjE1NTc5MDg0NzEsImlhdCI6MTU1NzkwODE3MX0.gU5srfME1CkhLXx3QovDe4-M-JWD7seV-VeL68wcIR2hXxEuw1KQw2MiS4hB1k1DR4Dcr_lCt_8V7gmfl72mGdH5Mz7El5YoE1b_YA5PUIIkz8oTBW4bOPae-PGYn98cPEJEYjMt_uCW_4Jd2nmj3PPfIKlKfTItd_jUzfaYzGxqweNwynkmk4mDvA2iRUYk40XRLsQr0SnOyI0IUp-PNGN2ZIyRCEl8_1hPXLu6iW22kTMhREQG7ljm_5QK5e4gp0jqqM5rYq9HKB6rZMceZJLUY2fv7J8KhDaD3ijir9xzylhL_fxw1WSxjLlPjEN0LNXRFMzSb2O9eMk4jKQg1w\n"
     ]
    }
   ],
   "source": [
    "if resp.status_code!=200:\n",
    "    print(\"Status Code:\",resp.status_code,\" Text:\",dumps(loads(resp.text),indent=4))\n",
    "    exit()\n",
    "else:\n",
    "    #print(dumps(loads(resp.text),indent=4))\n",
    "    from collections import OrderedDict\n",
    "    auth_object=loads(resp.text,object_pairs_hook=OrderedDict)\n",
    "    accessToken=auth_object[\"access_token\"]\n",
    "    refreshToken=auth_object[\"refresh_token\"]\n",
    "\n",
    "print(\"Refresh Token:\",refreshToken)\n",
    "print(\"Access Token:\",accessToken)"
   ]
  },
  {
   "cell_type": "markdown",
   "metadata": {},
   "source": [
    "### Retreive ESG score\n",
    "\n",
    "In this example, we want to retrieve the ESG Score standard. The score standard operation returns all available scores for a company with three years of historical data. Application has to use the following Endpoint to retrieve the data.\n",
    "\n",
    "```html\n",
    "https://api.refinitiv.com/data/environmental-social-governance/v1/views/scores-standard\n",
    "```\n",
    "There is an alternate option for a professional account to get ESG data with full score and it returns scores with full history. The user can use the following Endpoint instead.\n",
    "\n",
    "```html\n",
    "https://api.refinitiv.com/data/environmental-social-governance/v1/views/scores-full\n",
    "```\n",
    "The application has to send the server certain GET parameters through the requested endpoint/URL. In this case, it has to pass a universe as HTTP get parameters. The universe could be RIC name or ISIN or any other supported value.  \n",
    "The application needs to set a Bearer access token in the Authorization header of the HTTP request message. See below snippet of codes for the API usage to request full ESG score for the RIC MSFT.O."
   ]
  },
  {
   "cell_type": "code",
   "execution_count": 6,
   "metadata": {},
   "outputs": [],
   "source": [
    "ricList=\"MSFT.O\"\n",
    "esgScoreFullEndpoint=\"https://api.refinitiv.com/data/environmental-social-governance/v1/views/scores-full?universe=\"\n",
    "resp=get(url=esgScoreFullEndpoint+ricList,headers={\"Authorization\": \"Bearer \" + accessToken})\n",
    "\n",
    "if resp.status_code!=200:\n",
    "    print(\"Status Code:\",resp.status_code,\" Text:\",dumps(loads(resp.text),indent=4))\n",
    "    exit()\n",
    "\n",
    "esg_object=loads(resp.text)"
   ]
  },
  {
   "cell_type": "markdown",
   "metadata": {},
   "source": [
    "To process the ESG data, we need to convert the data from JSON object to a pandas data frame. The application need to get the data and column name from JSON object and then re-construct a new dataframe. The applicaiton need to converts the title from a header to numpy arrary and convert data array to numpy array as well. "
   ]
  },
  {
   "cell_type": "code",
   "execution_count": 7,
   "metadata": {},
   "outputs": [],
   "source": [
    "import pandas as pd\n",
    "import numpy as np\n",
    "headers=esg_object['headers']\n",
    "titles=np.array([])\n",
    "\n",
    "for header in headers:\n",
    "    titles=np.append(titles,header['title'])\n",
    "\n",
    "dataArray=np.array(esg_object['data'])\n",
    "df=pd.DataFrame(data=dataArray,columns=titles)\n"
   ]
  },
  {
   "cell_type": "markdown",
   "metadata": {},
   "source": [
    "It should return the data like the following sample output."
   ]
  },
  {
   "cell_type": "code",
   "execution_count": 8,
   "metadata": {},
   "outputs": [
    {
     "name": "stdout",
     "output_type": "stream",
     "text": [
      "   Instrument Period End Date ESG Combined Score ESG Score  \\\n",
      "0      MSFT.O      2017-06-30            46.6738   92.5464   \n",
      "1      MSFT.O      2016-06-30            48.0373   94.0451   \n",
      "2      MSFT.O      2015-06-30            47.5047   91.2885   \n",
      "3      MSFT.O      2014-06-30            46.9122   92.4452   \n",
      "4      MSFT.O      2013-06-30            46.8311   92.4993   \n",
      "5      MSFT.O      2012-06-30            44.6859   86.8295   \n",
      "6      MSFT.O      2011-06-30            45.8584   90.4125   \n",
      "7      MSFT.O      2010-06-30            46.4708   91.6484   \n",
      "8      MSFT.O      2009-06-30            46.2809   91.1054   \n",
      "9      MSFT.O      2008-06-30            44.3057   85.6702   \n",
      "10     MSFT.O      2007-06-30            45.7609   88.8901   \n",
      "11     MSFT.O      2006-06-30            38.0189   73.4404   \n",
      "12     MSFT.O      2005-06-30            69.1562   69.1562   \n",
      "13     MSFT.O      2004-06-30            33.8568   66.8939   \n",
      "14     MSFT.O      2003-06-30            27.3133   50.3409   \n",
      "15     MSFT.O      2002-06-30            31.9662   62.4618   \n",
      "\n",
      "   ESG Controversies Score Environment Pillar Score Social Pillar Score  \\\n",
      "0                 0.801282                  89.4278             95.1449   \n",
      "1                  2.02952                  90.3462             95.9903   \n",
      "2                  3.72093                  89.3844             95.3816   \n",
      "3                  1.37931                  85.5071              98.101   \n",
      "4                  1.16279                  88.2581             98.3077   \n",
      "5                  2.54237                  86.3784             98.5319   \n",
      "6                  1.30435                  88.9642             93.1231   \n",
      "7                   1.2931                  88.7551             95.0704   \n",
      "8                  1.45631                  89.9914             91.1869   \n",
      "9                  2.94118                   89.481             92.2038   \n",
      "10                 2.63158                  98.7036             92.8744   \n",
      "11                  2.5974                  77.2154              85.129   \n",
      "12                 60.2564                  62.9713             73.0318   \n",
      "13                0.819672                  63.8139             75.7562   \n",
      "14                 4.28571                  46.0924             50.3219   \n",
      "15                 1.47059                  46.4965             74.7307   \n",
      "\n",
      "   Governance Pillar Score Resource Use Score Emissions Score  \\\n",
      "0                  92.9983            99.1987         82.5321   \n",
      "1                  95.9044            99.4465         84.3173   \n",
      "2                   88.647            98.8372         84.4186   \n",
      "3                  93.5964            98.2759         77.5862   \n",
      "4                  90.4667            97.2868         88.7597   \n",
      "5                  73.7116            98.7288          84.322   \n",
      "6                  88.8719            99.5652         88.2609   \n",
      "7                  90.8908             99.569            87.5   \n",
      "8                  92.2523            97.5728         90.7767   \n",
      "9                  73.8175            98.2353         85.2941   \n",
      "10                 73.3132            99.3421         99.3421   \n",
      "11                 55.6273            83.1169         96.7532   \n",
      "12                   71.54            41.0256         96.1538   \n",
      "13                 60.0122            43.4426         95.9016   \n",
      "14                 55.0991            47.1429         42.8571   \n",
      "15                 65.9788            47.0588         44.1176   \n",
      "\n",
      "   Innovation Score Workforce Score Human Rights Score Community Score  \\\n",
      "0           87.1795         97.9167            95.9936         87.8205   \n",
      "1           87.8229         98.7085            97.6015         87.2694   \n",
      "2           85.3488         92.3256            98.1395         99.7674   \n",
      "3           81.3793         99.6552            98.2759         98.9655   \n",
      "4           78.6822         98.8372            98.4496          98.062   \n",
      "5           76.2712         98.7288            99.1525         98.7288   \n",
      "6           79.1304         91.7391            98.6957         88.2609   \n",
      "7           79.3103         96.9828            99.1379         85.7759   \n",
      "8           81.5534         98.5437            96.6019         70.3883   \n",
      "9           85.2941         95.8824            93.5294         82.9412   \n",
      "10          97.3684         96.7105            83.5526         88.8158   \n",
      "11               50         98.0519            46.7532         88.3117   \n",
      "12          48.7179         89.1026            46.7949         90.3846   \n",
      "13          49.1803          92.623            45.9016         94.2623   \n",
      "14          48.5714         52.8571            47.1429         58.5714   \n",
      "15          48.5294         92.6471            47.0588         83.8235   \n",
      "\n",
      "   Product Responsibility Score Management Score Shareholders Score  \\\n",
      "0                       96.6346          94.1234            85.9866   \n",
      "1                       98.7085          98.4124            86.9814   \n",
      "2                       95.5814          86.3448             88.359   \n",
      "3                       93.4483          91.4671            96.1577   \n",
      "4                       97.2868          89.6255            92.9656   \n",
      "5                       97.4576          61.7556            95.5339   \n",
      "6                       98.2609          87.0522            97.1853   \n",
      "7                       98.7069          90.0404            95.5005   \n",
      "8                       94.6602          89.3451             97.869   \n",
      "9                       93.5294          74.1803             61.534   \n",
      "10                      94.7368          68.7685            73.0712   \n",
      "11                      76.6234          33.5098            90.3933   \n",
      "12                      33.3333          60.2273            86.2879   \n",
      "13                      35.2459          56.4298            51.8613   \n",
      "14                      37.1429          68.2558            28.7209   \n",
      "15                      41.1765          75.4079            55.8275   \n",
      "\n",
      "   CSR Strategy Score ESG Reporting Scope ESG Period Last Update Date  \n",
      "0             99.1549                 100         2019-04-19T00:00:00  \n",
      "1             99.1956                 100         2019-04-19T00:00:00  \n",
      "2             98.8152                 100         2019-04-19T00:00:00  \n",
      "3             98.6028                 100         2019-04-26T00:00:00  \n",
      "4             90.1316                 100         2019-04-26T00:00:00  \n",
      "5             90.2464                 100         2019-04-26T00:00:00  \n",
      "6             83.6233                 100         2019-03-01T00:00:00  \n",
      "7             87.3104                 100         2019-03-01T00:00:00  \n",
      "8               95.79                None         2018-12-19T00:00:00  \n",
      "9             91.3934                None         2018-12-17T00:00:00  \n",
      "10            92.8783                None         2018-12-17T00:00:00  \n",
      "11            94.9319                None         2018-12-17T00:00:00  \n",
      "12            96.3636                None         2018-12-17T00:00:00  \n",
      "13            87.8173                None         2018-12-17T00:00:00  \n",
      "14            40.5814                None         2018-12-17T00:00:00  \n",
      "15             41.958                None         2018-12-17T00:00:00  \n"
     ]
    }
   ],
   "source": [
    "print(df)"
   ]
  },
  {
   "cell_type": "markdown",
   "metadata": {},
   "source": [
    "### Plot Graph from ESG Score\n",
    "\n",
    "To compare specific ESG data between the years, Jupyter Notebook user may use the mathplotlib to plot the graph.\n",
    "\n",
    "For this example, we want to compare columns \"ESG Score\",\"ESG Combined Score\" and \"Innovation Score\" between the years. I have to create a new data frame from the origina data frame df using the following codes."
   ]
  },
  {
   "cell_type": "code",
   "execution_count": 9,
   "metadata": {},
   "outputs": [],
   "source": [
    "dataPlot=pd.DataFrame(df,columns=['Instrument','Period End Date','ESG Score','ESG Combined Score','Innovation Score'])"
   ]
  },
  {
   "cell_type": "markdown",
   "metadata": {},
   "source": [
    "The data for the Y-axis is a Period End Date and the X-axis is the ESG scores. We want to display only the year (eg \"2017\", \"2016\") therefore we need to reformat the data in \"Period End Date\" column using below codes. The example also sorting the year ascending. \n",
    "\n",
    "Note that you can change the column in dataPlot to plot the graph for specific data you want. If you have permission to request only a basic score you might need to change the column accordingly."
   ]
  },
  {
   "cell_type": "code",
   "execution_count": 10,
   "metadata": {},
   "outputs": [],
   "source": [
    "dataPlot['Period End Date']= dataPlot['Period End Date'].str.split('-').str[0]\n",
    "dataPlot.sort_values('Period End Date',ascending=True,inplace=True)"
   ]
  },
  {
   "cell_type": "markdown",
   "metadata": {},
   "source": [
    "It will be displaying the following sample graphs on the notebook."
   ]
  },
  {
   "cell_type": "code",
   "execution_count": 11,
   "metadata": {},
   "outputs": [
    {
     "data": {
      "text/plain": [
       "<matplotlib.axes._subplots.AxesSubplot at 0x1b9d30678d0>"
      ]
     },
     "execution_count": 11,
     "metadata": {},
     "output_type": "execute_result"
    }
   ],
   "source": [
    "dataPlot.plot(x='Period End Date',y=['ESG Score','ESG Combined Score','Innovation Score'],figsize=(14,7))\n",
    "dataPlot.plot(x='Period End Date',y=['ESG Score','ESG Combined Score','Innovation Score'],kind='bar',figsize=(14,7))"
   ]
  },
  {
   "cell_type": "markdown",
   "metadata": {},
   "source": [
    "### Compare ESG Score for multiple universe\n",
    "\n",
    "The next step, I'm interested in comparing the value of a number of Woman Manager and CO2 Emission Total used by a top tech company such as Microsoft, IBM, Facebook, Google/Alphabet, and Amazon. \n",
    "\n",
    "Based on the details from EDP Swagger page,  we can get the data using basic score endpoint and we just need to pass a list of RIC for each company as a universe parameters. Below are a snippet of codes to demonstrate the API usage."
   ]
  },
  {
   "cell_type": "code",
   "execution_count": 12,
   "metadata": {},
   "outputs": [],
   "source": [
    "ricList=\"IBM,AMZN.O,MSFT.O,GOOGL.O,FB.O,APPL.O\"\n",
    "esgฺBasicEndpoint=\"https://api.refinitiv.com/data/environmental-social-governance/v1/views/basic?universe=\"\n",
    "resp=get(url=esgฺBasicEndpoint+ricList,headers={\"Authorization\": \"Bearer \" + accessToken})\n",
    "if resp.status_code!=200:\n",
    "    print(\"Status Code:\",resp.status_code,\" Text:\",dumps(loads(resp.text),indent=4))\n",
    "    exit()\n",
    "\n",
    "esg_BasicObject=loads(resp.text)\n",
    "\n",
    "import pandas as pd\n",
    "import numpy as np\n",
    "headers=esg_BasicObject['headers']\n",
    "titles=np.array([])\n",
    "\n",
    "for header in headers:\n",
    "    titles=np.append(titles,header['title'])\n",
    "\n",
    "basicDataArray=np.array(esg_BasicObject['data'])\n",
    "basicDf=pd.DataFrame(data=basicDataArray,columns=titles)"
   ]
  },
  {
   "cell_type": "markdown",
   "metadata": {},
   "source": [
    "Print sample basic score result."
   ]
  },
  {
   "cell_type": "code",
   "execution_count": 13,
   "metadata": {},
   "outputs": [
    {
     "name": "stdout",
     "output_type": "stream",
     "text": [
      "  Instrument Period End Date ESG Reporting Scope  \\\n",
      "0        IBM      2017-12-31                 100   \n",
      "1     AMZN.O      2017-12-31                 100   \n",
      "2    GOOGL.O      2017-12-31                 100   \n",
      "3       FB.O      2017-12-31                 100   \n",
      "4     MSFT.O      2017-06-30                 100   \n",
      "\n",
      "              ESG Report Auditor Name ESG Period Last Update Date  \\\n",
      "0                                None         2019-03-30T00:00:00   \n",
      "1                                None         2019-05-11T00:00:00   \n",
      "2                                None         2019-05-04T00:00:00   \n",
      "3  Bureau Veritas North America, Inc.         2019-05-04T00:00:00   \n",
      "4                                None         2019-04-19T00:00:00   \n",
      "\n",
      "  CO2 Equivalents Emission Total Women Managers Average Training Hours  \n",
      "0                        1496517           None                 59.578  \n",
      "1                           None             26                   None  \n",
      "2                        3367941           25.5                   None  \n",
      "3                         638000             28                   None  \n",
      "4                        2790348           19.1                   None  \n"
     ]
    }
   ],
   "source": [
    "print(basicDf)"
   ]
  },
  {
   "cell_type": "markdown",
   "metadata": {},
   "source": [
    "__Display Componay Name__\n",
    "\n",
    "We have an additional requirement to display Company Name rather than using RIC codes. Basically, the data returned by the ESG basic score has only an Instrument name but it does not have a company named. Therefore, I need to create a function for getting the company name from ESG universe data. I found that the ESG universe endpoint can provide the company names that I want. I will use it later when I plot the graph. Anyway, we found that we can't find some RIC code using the universe Endpoint so it will return the original RIC name instead.\n"
   ]
  },
  {
   "cell_type": "code",
   "execution_count": 14,
   "metadata": {},
   "outputs": [],
   "source": [
    "esgUniverseEndpoint=\"https://api.refinitiv.com/data/environmental-social-governance/v1/universe\"\n",
    "\n",
    "resp=get(url=esgUniverseEndpoint,headers={\"Authorization\": \"Bearer \" + accessToken})\n",
    "if resp.status_code!=200:\n",
    "    print(\"Status Code:\",resp.status_code,\" Text:\",dumps(loads(resp.text),indent=4))\n",
    "    exit()\n",
    "\n",
    "esg_universe = loads(resp.text)\n",
    "\n",
    "def GetRicName(ricName):\n",
    "    universe_data = [sublist for sublist in esg_universe['data'] if sublist[1]==ricName] \n",
    "    #print(universe_data)\n",
    "    if universe_data:\n",
    "        return universe_data[0][2]\n",
    "    return None\n"
   ]
  },
  {
   "cell_type": "markdown",
   "metadata": {},
   "source": [
    "Display Company Name for MSFT.O ric."
   ]
  },
  {
   "cell_type": "code",
   "execution_count": 27,
   "metadata": {},
   "outputs": [
    {
     "name": "stdout",
     "output_type": "stream",
     "text": [
      "MSFT.O is \"Microsoft Corp\"\n"
     ]
    }
   ],
   "source": [
    "print(\"MSFT.O is \\\"\"+ GetRicName(\"MSFT.O\")+\"\\\"\")"
   ]
  },
  {
   "cell_type": "markdown",
   "metadata": {},
   "source": [
    "Next step we will be using the data from a **basicDf** dataframe to plot horizontal bar chart for comparing a **Woman Managers** and **CO2 Emission Total** from each company. Base on a result from a dataframe, we found that column number 5 is a data for \"**CO2 Equivalents Emission Total**\" and column number 6 is a data for \"**Women Managers**\", then we will use the index to extract the data. Below are the codes we use to extract both data from the data frame."
   ]
  },
  {
   "cell_type": "code",
   "execution_count": 16,
   "metadata": {},
   "outputs": [],
   "source": [
    "# Extract CO2, Woman Manager and Instrument from the dataframe and convert to numpy array\n",
    "co2= [val for sublist in np.array(basicDf.iloc[:,5:6]) for val in sublist]\n",
    "\n",
    "woman=[val for sublist in np.array(basicDf.iloc[:,6:7]) for val in sublist] \n",
    "\n",
    "instrument=[val for sublist in np.array(basicDf.iloc[:,0:1]) for val in sublist]  \n"
   ]
  },
  {
   "cell_type": "markdown",
   "metadata": {},
   "source": [
    "Print data inside co2,woman and instrument variable."
   ]
  },
  {
   "cell_type": "code",
   "execution_count": 24,
   "metadata": {},
   "outputs": [
    {
     "name": "stdout",
     "output_type": "stream",
     "text": [
      "[1496517, None, 3367941, 638000, 2790348]\n",
      "[None, 26, 25.5, 28, 19.1]\n",
      "['IBM', 'AMZN.O', 'GOOGL.O', 'FB.O', 'MSFT.O']\n"
     ]
    }
   ],
   "source": [
    "print(co2)\n",
    "print(woman)\n",
    "print(instrument)"
   ]
  },
  {
   "cell_type": "markdown",
   "metadata": {},
   "source": [
    "Next step we need to get a company name for each instrument from the instrument list."
   ]
  },
  {
   "cell_type": "code",
   "execution_count": 18,
   "metadata": {},
   "outputs": [],
   "source": [
    "instrumentorg=np.array([])\n",
    "\n",
    "for val in instrument:\n",
    "    if GetRicName(val) is None:\n",
    "        instrumentorg=np.append(instrumentorg,val)\n",
    "    else:\n",
    "        instrumentorg=np.append(instrumentorg,GetRicName(val))"
   ]
  },
  {
   "cell_type": "markdown",
   "metadata": {},
   "source": [
    "Display instrument name."
   ]
  },
  {
   "cell_type": "code",
   "execution_count": 19,
   "metadata": {},
   "outputs": [
    {
     "name": "stdout",
     "output_type": "stream",
     "text": [
      "['International Business Machines Corp' 'Amazon.com Inc' 'Alphabet Inc'\n",
      " 'Facebook Inc' 'Microsoft Corp']\n"
     ]
    }
   ],
   "source": [
    "print(instrumentorg)"
   ]
  },
  {
   "cell_type": "markdown",
   "metadata": {},
   "source": [
    "The last step we construct dataframe for plotting the graph for displaying a data for **CO2 Emission Total** with a **Woman Managers** separately because of the difference between the scale of each data. We will be using the company name as an index."
   ]
  },
  {
   "cell_type": "code",
   "execution_count": 20,
   "metadata": {},
   "outputs": [
    {
     "data": {
      "text/plain": [
       "<matplotlib.axes._subplots.AxesSubplot at 0x1b9d3b8bcc0>"
      ]
     },
     "execution_count": 20,
     "metadata": {},
     "output_type": "execute_result"
    },
    {
     "data": {
      "image/png": "[encoded data removed]",
      "text/plain": [
       "<Figure size 432x288 with 1 Axes>"
      ]
     },
     "metadata": {
      "needs_background": "light"
     },
     "output_type": "display_data"
    }
   ],
   "source": [
    "df1 = pd.DataFrame({\"Woman Managers\":woman}, index=instrumentorg)\n",
    "df1.plot.barh(y='Woman Managers')"
   ]
  },
  {
   "cell_type": "markdown",
   "metadata": {},
   "source": [
    "It looks like currently we do not have \"Woman Managers\" report for IBM."
   ]
  },
  {
   "cell_type": "code",
   "execution_count": 21,
   "metadata": {},
   "outputs": [
    {
     "data": {
      "text/plain": [
       "<matplotlib.axes._subplots.AxesSubplot at 0x1b9d3c8e588>"
      ]
     },
     "execution_count": 21,
     "metadata": {},
     "output_type": "execute_result"
    },
    {
     "data": {
      "image/png": "[encoded data removed]",
      "text/plain": [
       "<Figure size 432x288 with 1 Axes>"
      ]
     },
     "metadata": {
      "needs_background": "light"
     },
     "output_type": "display_data"
    }
   ],
   "source": [
    "df2 = pd.DataFrame({\"CO2 Emission Total\":co2}, index=instrumentorg)\n",
    "df2.plot.barh(y='CO2 Emission Total',color=(0.5, 0.25, 0.15, 1))"
   ]
  },
  {
   "cell_type": "markdown",
   "metadata": {},
   "source": [
    "For CO2 Emision Totla, it looks like currently we do not have a CO2 report for Amazon.\n",
    "You can change or modify Python codes in this notebook to displaying data from other columns of the dataframe for basic or full ESG Score."
   ]
  },
  {
   "cell_type": "markdown",
   "metadata": {},
   "source": [
    "## REFERENCES\n",
    "\n",
    "* [Elektron Data Platform Document](https://developers.refinitiv.com/elektron-data-platform/elektron-data-platform-apis/docs)\n",
    "* [Elektron Data Platform Tutorial](https://developers.refinitiv.com/elektron-data-platform/elektron-data-platform-apis/learning)\n",
    "* [ESG User Guide](https://developers.refinitiv.com/elektron-data-platform/elektron-data-platform-apis/docs?content=62652&type=documentation_item)\n",
    "\n",
    "## DOWNLOADS\n",
    "* Github"
   ]
  },
  {
   "cell_type": "code",
   "execution_count": null,
   "metadata": {},
   "outputs": [],
   "source": []
  }
 ],
 "metadata": {
  "kernelspec": {
   "display_name": "Python 3",
   "language": "python",
   "name": "python3"
  },
  "language_info": {
   "codemirror_mode": {
    "name": "ipython",
    "version": 3
   },
   "file_extension": ".py",
   "mimetype": "text/x-python",
   "name": "python",
   "nbconvert_exporter": "python",
   "pygments_lexer": "ipython3",
   "version": "3.7.3"
  }
 },
 "nbformat": 4,
 "nbformat_minor": 2
}
