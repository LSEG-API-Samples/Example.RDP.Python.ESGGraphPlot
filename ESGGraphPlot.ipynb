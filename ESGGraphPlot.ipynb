{
 "cells": [
  {
   "cell_type": "markdown",
   "metadata": {},
   "source": [
    "# Using EDP API to request ESG data on Jupyter Notebook\n",
    "\n",
    "## INTRODUCTION\n",
    "\n",
    "Environmental, Social and Governance (ESG) is a set of standards for a company's operations that investors use to evaluate corporate behavior, determine the future financial performance and decide whether it will be beneficial to invest in a company or not. The ESG information from Refinitv enables our clients to benchmark, compare and integrate extra-financial information into their investment processes to identify companies with quality management and reduced risk exposure. Please refer to the [ESG Learning Section](https://developers.refinitiv.com/elektron-data-platform/elektron-data-platform-apis/learning?content=62732&type=learning_material_item) on the [Developer Community](https://developers.refinitiv.com/) for more details about the ESG data and its coverage provided by Refinitiv.\n",
    "\n",
    "This article will demonstrate how we can retrieve [ESG data](https://developers.refinitiv.com/content/edp-esg-quick-start-video) from [Elektron Data Platform (EDP)](https://developers.refinitiv.com/elektron-data-platform/elektron-data-platform-apis). We will be using Python with EDP API to request ESG data on the [Jupyter Notebook](https://jupyter.org/index.html). The notebook allows the user to create and share documents that contain live code, narrative text, visualizations and we can also plot the graph on the notebook.\n",
    "\n",
    "The Jupyter Notebook with Python codes will be provided on GitHub.\n",
    "\n",
    "## PRE-REQUISITES:\n",
    "\n",
    "* Python 3.6 or later version.\n",
    "* Required Python Packages: getpass, json, requests, pandas, numpy, matplotlib.\n",
    "* [Jupyter Notebook](https://jupyter.org/install). You can install Jupyter Notebook on your local machine and then test the example on the machine. Alternate choice is a free Juputer Notebook on cloud environment such as [Azure Notebook](https://notebooks.azure.com/) provided by Microsoft. You can find more details from [this tutorial](https://docs.microsoft.com/en-us/azure/notebooks/tutorial-create-run-jupyter-notebook).\n",
    "* EDP account with a permission to access ESG basic or premium data. \n",
    "\n",
    "## IMPREMENTATIONS\n",
    "\n",
    "There are two main steps for the implementation according to [the tutorial](https://developers.refinitiv.com/elektron-data-platform/elektron-data-platform-apis/learning?content=62732&type=learning_material_item).\n",
    "\n",
    "* Get Access Token from EDP Authentication Endpoint.\n",
    "* Get specific ESG data like the basic score from the REST endpoint. \n",
    "* Display data and plot a graph.\n"
   ]
  },
  {
   "cell_type": "markdown",
   "metadata": {},
   "source": [
    "### Get Access Token\n",
    "\n",
    "__Get EDP Username and Password__\n",
    "\n",
    "The user must have a valid EDP account with a permission to access ESG data. The application will use getpass to get the username and password from user."
   ]
  },
  {
   "cell_type": "code",
   "execution_count": 4,
   "metadata": {
    "scrolled": true
   },
   "outputs": [
    {
     "name": "stdout",
     "output_type": "stream",
     "text": [
      "Enter EDP username:GE-A-01103867-3-1175\n",
      "Enter EDP Password:········\n"
     ]
    }
   ],
   "source": [
    "import getpass as gp\n",
    "\n",
    "username=input('Enter EDP username:')\n",
    "password=gp.getpass('Enter EDP Password:')"
   ]
  },
  {
   "cell_type": "markdown",
   "metadata": {},
   "source": [
    "__Get access token from authentication endpoint__\n",
    "\n",
    "The application send HTTP post and pass required parameter according to the [EDP tutorial](https://developers.refinitiv.com/elektron-data-platform/elektron-data-platform-apis/learning?content=38562&type=learning_material_item) to get the Access Token from EDP server.\n"
   ]
  },
  {
   "cell_type": "code",
   "execution_count": 5,
   "metadata": {},
   "outputs": [],
   "source": [
    "from json import dumps, loads, load\n",
    "from requests import post,get\n",
    "\n",
    "#Get access token from EDP server \n",
    "getTokenEndpoint=\"https://api.refinitiv.com/auth/oauth2/beta1/token\"\n",
    "refreshToken=None\n",
    "accessToken=None\n",
    "_header= {}\n",
    "_header['Accept']='application/json'\n",
    "_params={}\n",
    "\n",
    "if refreshToken is None:\n",
    "    _params={\n",
    "        \"username\": username,\n",
    "        \"password\": password,\n",
    "        \"grant_type\": \"password\",\n",
    "        \"scope\": \"trapi\",\n",
    "        \"takeExclusiveSignOnControl\": \"true\"\n",
    "    }\n",
    "else:\n",
    "    _params={\n",
    "\t\t\t\"refresh_token\": refreshToken,\n",
    "\t\t\t\"username\": username,\n",
    "\t\t\t\"grant_type\": \"refresh_token\"\n",
    "    }\n",
    "\n",
    "resp=post(url=getTokenEndpoint,data=_params,headers=_header,auth=(username,\"\"))"
   ]
  },
  {
   "cell_type": "markdown",
   "metadata": {},
   "source": [
    "If the returned status code from HTTP response is not 200 (OK), we assume that there is an error occurred, therefore, the application will print the status code and the response status message then exit the application. Otherwise, get the Refresh Token and Access Token from the HTTP response message and print it out."
   ]
  },
  {
   "cell_type": "code",
   "execution_count": 6,
   "metadata": {},
   "outputs": [
    {
     "name": "stdout",
     "output_type": "stream",
     "text": [
      "Refresh Token: 5af92fc6-5392-4083-ba52-3fd3ed17c9d7\n",
      "Access Token: eyJ0eXAiOiJKV1QiLCJhbGciOiJSUzI1NiIsImtpZCI6IjNKZnZZOWNYaEtoVndDRmU1a29MdWpPektQdnNtUnZ0TXRXMHZYYWpqVXcifQ.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.C6DQstGwHM6chf3Km0gYKd5eQXrnzcjnVCQh2qrBb7T_LtbZCmiLWDWvXITB--2guMHEY68YT8mQC9pxYhFBQ3Wxx-BUOPFKcZoSXe4fxVjnCy1_oPHOFLVzkmkfKWaC23xWItO-O9kXbHLtjv2jTPEVSFpAyOzZo3XtYNCLzQJ3lWxOw0n-Qtrsy7iEJphGs9I7zDHv__SAaITVmSyErYgXjShoHnq3H_2pYTevzQU50pCA6cdVJvOMoAWs5Zux6-e0eCjB_-enXBmO_O5qtVszIPsh6kS6fIxSfuH1cC3HLuMlWjFbbV9nTlQhwwc89cN-8STIUuhORkXTjdyB0w\n"
     ]
    }
   ],
   "source": [
    "if resp.status_code!=200:\n",
    "    print(\"Status Code:\",resp.status_code,\" Text:\",dumps(loads(resp.text),indent=4))\n",
    "    exit()\n",
    "else:\n",
    "    #print(dumps(loads(resp.text),indent=4))\n",
    "    from collections import OrderedDict\n",
    "    auth_object=loads(resp.text,object_pairs_hook=OrderedDict)\n",
    "    accessToken=auth_object[\"access_token\"]\n",
    "    refreshToken=auth_object[\"refresh_token\"]\n",
    "\n",
    "print(\"Refresh Token:\",refreshToken)\n",
    "print(\"Access Token:\",accessToken)"
   ]
  },
  {
   "cell_type": "markdown",
   "metadata": {},
   "source": [
    "### Retreive ESG score\n",
    "\n",
    "In this example, we want to retrieve the ESG Score standard. The score standard operation returns all available scores for a company with three years of historical data. Application has to use the following Endpoint to retrieve the data.\n",
    "\n",
    "```html\n",
    "https://api.refinitiv.com/data/environmental-social-governance/v1/views/scores-standard\n",
    "```\n",
    "There is an alternate option for a professional account to get ESG data with full score and it returns scores with full history. The user can use the following Endpoint instead.\n",
    "\n",
    "```html\n",
    "https://api.refinitiv.com/data/environmental-social-governance/v1/views/scores-full\n",
    "```\n",
    "The application has to send the server certain GET parameters through the requested endpoint/URL. In this case, it has to pass a universe as HTTP get parameters. The universe could be RIC name or ISIN or any other supported value.  \n",
    "The application needs to set a Bearer access token in the Authorization header of the HTTP request message. See below snippet of codes for the API usage to request full ESG score for the RIC MSFT.O."
   ]
  },
  {
   "cell_type": "code",
   "execution_count": 7,
   "metadata": {},
   "outputs": [],
   "source": [
    "ricList=\"MSFT.O\"\n",
    "esgScoreFullEndpoint=\"https://api.refinitiv.com/data/environmental-social-governance/v1/views/scores-full?universe=\"\n",
    "resp=get(url=esgScoreFullEndpoint+ricList,headers={\"Authorization\": \"Bearer \" + accessToken})\n",
    "\n",
    "if resp.status_code!=200:\n",
    "    print(\"Status Code:\",resp.status_code,\" Text:\",dumps(loads(resp.text),indent=4))\n",
    "    exit()\n",
    "\n",
    "esg_object=loads(resp.text)"
   ]
  },
  {
   "cell_type": "markdown",
   "metadata": {},
   "source": [
    "To process the ESG data, we need to convert the data from JSON object to a pandas data frame. The application need to get the data and column name from JSON object and then re-construct a new dataframe. The applicaiton need to converts the title from a header to numpy arrary and convert data array to numpy array as well. "
   ]
  },
  {
   "cell_type": "code",
   "execution_count": 8,
   "metadata": {},
   "outputs": [],
   "source": [
    "import pandas as pd\n",
    "import numpy as np\n",
    "headers=esg_object['headers']\n",
    "titles=np.array([])\n",
    "\n",
    "for header in headers:\n",
    "    titles=np.append(titles,header['title'])\n",
    "\n",
    "dataArray=np.array(esg_object['data'])\n",
    "df=pd.DataFrame(data=dataArray,columns=titles)\n"
   ]
  },
  {
   "cell_type": "markdown",
   "metadata": {},
   "source": [
    "It should return the data like the following sample output."
   ]
  },
  {
   "cell_type": "code",
   "execution_count": 11,
   "metadata": {},
   "outputs": [
    {
     "name": "stdout",
     "output_type": "stream",
     "text": [
      "  Instrument Period End Date ESG Combined Score ESG Score  \\\n",
      "0     MSFT.O      2017-06-30            46.6804    92.562   \n",
      "1     MSFT.O      2016-06-30            48.0422   94.0624   \n",
      "2     MSFT.O      2015-06-30            47.5251   91.3466   \n",
      "3     MSFT.O      2014-06-30            46.9312   92.4831   \n",
      "4     MSFT.O      2013-06-30            46.8503   92.5378   \n",
      "\n",
      "  ESG Controversies Score Environment Pillar Score Social Pillar Score  \\\n",
      "0                0.798722                  89.4616             95.1604   \n",
      "1                 2.02206                  90.3817             96.0051   \n",
      "2                  3.7037                  89.4336              95.403   \n",
      "3                 1.37931                  85.5071              98.101   \n",
      "4                 1.16279                  88.2581             98.3077   \n",
      "\n",
      "  Governance Pillar Score Resource Use Score Emissions Score Innovation Score  \\\n",
      "0                 92.9939            99.2013         82.5879          87.2204   \n",
      "1                 95.9044            99.4485          84.375          87.8676   \n",
      "2                 88.7577            98.8426         84.4907          85.4167   \n",
      "3                 93.7208            98.2759         77.5862          81.3793   \n",
      "4                 90.5929            97.2868         88.7597          78.6822   \n",
      "\n",
      "  Workforce Score Human Rights Score Community Score  \\\n",
      "0         97.9233            96.0064         87.8594   \n",
      "1         98.7132            97.6103         87.3162   \n",
      "2         92.3611            98.1481         99.7685   \n",
      "3         99.6552            98.2759         98.9655   \n",
      "4         98.8372            98.4496          98.062   \n",
      "\n",
      "  Product Responsibility Score Management Score Shareholders Score  \\\n",
      "0                      96.6454          94.0934            86.0479   \n",
      "1                      98.7132          98.4124            86.9814   \n",
      "2                      95.6019          86.5225             88.359   \n",
      "3                      93.4483          91.6667            96.1577   \n",
      "4                      97.2868          89.8279            92.9656   \n",
      "\n",
      "  CSR Strategy Score ESG Reporting Scope ESG Period Last Update Date  \n",
      "0            99.1562                 100         2019-04-19T00:00:00  \n",
      "1            99.1956                 100         2019-04-19T00:00:00  \n",
      "2            98.8152                 100         2019-04-19T00:00:00  \n",
      "3            98.6028                 100         2019-04-26T00:00:00  \n",
      "4            90.1316                 100         2019-04-26T00:00:00  \n"
     ]
    }
   ],
   "source": [
    "if df.empty is False:\n",
    "    print(df.head(5))"
   ]
  },
  {
   "cell_type": "markdown",
   "metadata": {},
   "source": [
    "### Plot Graph from ESG Score\n",
    "\n",
    "To compare specific ESG data between the years, Jupyter Notebook user may use the mathplotlib to plot the graph.\n",
    "\n",
    "For this example, we want to compare columns \"ESG Score\",\"ESG Combined Score\" and \"Innovation Score\" between the years. I have to create a new data frame from the origina data frame df using the following codes."
   ]
  },
  {
   "cell_type": "code",
   "execution_count": 12,
   "metadata": {},
   "outputs": [],
   "source": [
    "dataPlot=pd.DataFrame(df,columns=['Instrument','Period End Date','ESG Score','ESG Combined Score','Innovation Score'])"
   ]
  },
  {
   "cell_type": "markdown",
   "metadata": {},
   "source": [
    "The data for the Y-axis is a Period End Date and the X-axis is the ESG scores. We want to display only the year (eg \"2017\", \"2016\") therefore we need to reformat the data in \"Period End Date\" column using below codes. The example also sorting the year ascending. \n",
    "\n",
    "Note that you can change the column in dataPlot to plot the graph for specific data you want. If you have permission to request only a basic score you might need to change the column accordingly."
   ]
  },
  {
   "cell_type": "code",
   "execution_count": 13,
   "metadata": {},
   "outputs": [],
   "source": [
    "dataPlot['Period End Date']= dataPlot['Period End Date'].str.split('-').str[0]\n",
    "dataPlot.sort_values('Period End Date',ascending=True,inplace=True)"
   ]
  },
  {
   "cell_type": "markdown",
   "metadata": {},
   "source": [
    "It will be displaying the following sample graphs on the notebook."
   ]
  },
  {
   "cell_type": "code",
   "execution_count": 14,
   "metadata": {},
   "outputs": [
    {
     "data": {
      "text/plain": [
       "<matplotlib.axes._subplots.AxesSubplot at 0x1c29049d390>"
      ]
     },
     "execution_count": 14,
     "metadata": {},
     "output_type": "execute_result"
    }
   ],
   "source": [
    "dataPlot.plot(x='Period End Date',y=['ESG Score','ESG Combined Score','Innovation Score'],figsize=(14,7))\n",
    "dataPlot.plot(x='Period End Date',y=['ESG Score','ESG Combined Score','Innovation Score'],kind='bar',figsize=(14,7))"
   ]
  },
  {
   "cell_type": "markdown",
   "metadata": {},
   "source": [
    "### Compare ESG Score for multiple universe\n",
    "\n",
    "The next step, I'm interested in comparing the value of a number of Woman Manager and CO2 Emission Total used by a top tech company such as Microsoft, IBM, Facebook, Google/Alphabet, and Amazon. \n",
    "\n",
    "Based on the details from EDP Swagger page,  we can get the data using basic score endpoint and we just need to pass a list of RIC for each company as a universe parameters. Below are a snippet of codes to demonstrate the API usage."
   ]
  },
  {
   "cell_type": "code",
   "execution_count": 15,
   "metadata": {},
   "outputs": [],
   "source": [
    "ricList=\"IBM,AMZN.O,MSFT.O,GOOGL.O,FB.O,APPL.O\"\n",
    "esgฺBasicEndpoint=\"https://api.refinitiv.com/data/environmental-social-governance/v1/views/basic?universe=\"\n",
    "resp=get(url=esgฺBasicEndpoint+ricList,headers={\"Authorization\": \"Bearer \" + accessToken})\n",
    "if resp.status_code!=200:\n",
    "    print(\"Status Code:\",resp.status_code,\" Text:\",dumps(loads(resp.text),indent=4))\n",
    "    exit()\n",
    "\n",
    "esg_BasicObject=loads(resp.text)\n",
    "\n",
    "import pandas as pd\n",
    "import numpy as np\n",
    "headers=esg_BasicObject['headers']\n",
    "titles=np.array([])\n",
    "\n",
    "for header in headers:\n",
    "    titles=np.append(titles,header['title'])\n",
    "\n",
    "basicDataArray=np.array(esg_BasicObject['data'])\n",
    "basicDf=pd.DataFrame(data=basicDataArray,columns=titles)"
   ]
  },
  {
   "cell_type": "markdown",
   "metadata": {},
   "source": [
    "Print sample basic score result."
   ]
  },
  {
   "cell_type": "code",
   "execution_count": 16,
   "metadata": {},
   "outputs": [
    {
     "name": "stdout",
     "output_type": "stream",
     "text": [
      "  Instrument Period End Date ESG Reporting Scope  \\\n",
      "0        IBM      2017-12-31                 100   \n",
      "1     AMZN.O      2017-12-31                 100   \n",
      "2    GOOGL.O      2017-12-31                 100   \n",
      "3       FB.O      2017-12-31                 100   \n",
      "4     MSFT.O      2017-06-30                 100   \n",
      "\n",
      "              ESG Report Auditor Name ESG Period Last Update Date  \\\n",
      "0                                None         2019-03-30T00:00:00   \n",
      "1                                None         2019-05-11T00:00:00   \n",
      "2                                None         2019-05-18T00:00:00   \n",
      "3  Bureau Veritas North America, Inc.         2019-05-04T00:00:00   \n",
      "4                                None         2019-04-19T00:00:00   \n",
      "\n",
      "  CO2 Equivalents Emission Total Women Managers Average Training Hours  \n",
      "0                        1496517           None                 59.578  \n",
      "1                           None             26                   None  \n",
      "2                        3367941           25.5                   None  \n",
      "3                         638000             28                   None  \n",
      "4                        2790348           19.1                   None  \n"
     ]
    }
   ],
   "source": [
    "if basicDf.empty is False:\n",
    "    print(basicDf.head(5))"
   ]
  },
  {
   "cell_type": "markdown",
   "metadata": {},
   "source": [
    "__Display Componay Name__\n",
    "\n",
    "We have an additional requirement to display Company Name rather than using RIC codes. Basically, the data returned by the ESG basic score has only an Instrument name but it does not have a company named. Therefore, I need to create a function for getting the company name from ESG universe data. I found that the ESG universe endpoint can provide the company names that I want. I will use it later when I plot the graph. Anyway, we found that we can't find some RIC code using the universe Endpoint so it will return the original RIC name instead.\n"
   ]
  },
  {
   "cell_type": "code",
   "execution_count": 17,
   "metadata": {},
   "outputs": [],
   "source": [
    "esgUniverseEndpoint=\"https://api.refinitiv.com/data/environmental-social-governance/v1/universe\"\n",
    "\n",
    "resp=get(url=esgUniverseEndpoint,headers={\"Authorization\": \"Bearer \" + accessToken})\n",
    "if resp.status_code!=200:\n",
    "    print(\"Status Code:\",resp.status_code,\" Text:\",dumps(loads(resp.text),indent=4))\n",
    "    exit()\n",
    "\n",
    "esg_universe = loads(resp.text)\n",
    "\n",
    "def GetRicName(ricName):\n",
    "    if 'data' in esg_universe:\n",
    "        universe_data = [sublist for sublist in esg_universe['data'] if sublist[1]==ricName] \n",
    "        #print(universe_data)\n",
    "        if universe_data:\n",
    "            return universe_data[0][2]\n",
    "    return None\n"
   ]
  },
  {
   "cell_type": "markdown",
   "metadata": {},
   "source": [
    "Display Company Name for MSFT.O ric."
   ]
  },
  {
   "cell_type": "code",
   "execution_count": 20,
   "metadata": {},
   "outputs": [
    {
     "name": "stdout",
     "output_type": "stream",
     "text": [
      "MSFT.O is \"Microsoft Corp\"\n"
     ]
    }
   ],
   "source": [
    "if GetRicName('MSFT.O') is not None:\n",
    "    print(\"MSFT.O is \\\"\"+ GetRicName(\"MSFT.O\")+\"\\\"\")\n",
    "else:\n",
    "    print(\"Unable to find name for MSFT.O\")"
   ]
  },
  {
   "cell_type": "markdown",
   "metadata": {},
   "source": [
    "Next step we will be using the data from a **basicDf** dataframe to plot horizontal bar chart for comparing a **Woman Managers** and **CO2 Emission Total** from each company. Base on a result from a dataframe, we found that column number 5 is a data for \"**CO2 Equivalents Emission Total**\" and column number 6 is a data for \"**Women Managers**\", then we will use the index to extract the data. Below are the codes we use to extract both data from the data frame."
   ]
  },
  {
   "cell_type": "code",
   "execution_count": 21,
   "metadata": {},
   "outputs": [],
   "source": [
    "# Extract CO2, Woman Manager and Instrument from the dataframe and convert to numpy array\n",
    "co2= [val for sublist in np.array(basicDf.iloc[:,5:6]) for val in sublist]\n",
    "\n",
    "woman=[val for sublist in np.array(basicDf.iloc[:,6:7]) for val in sublist] \n",
    "\n",
    "instrument=[val for sublist in np.array(basicDf.iloc[:,0:1]) for val in sublist]  \n"
   ]
  },
  {
   "cell_type": "markdown",
   "metadata": {},
   "source": [
    "Print data inside co2,woman and instrument variable."
   ]
  },
  {
   "cell_type": "code",
   "execution_count": 22,
   "metadata": {},
   "outputs": [
    {
     "name": "stdout",
     "output_type": "stream",
     "text": [
      "[1496517, None, 3367941, 638000, 2790348]\n",
      "[None, 26, 25.5, 28, 19.1]\n",
      "['IBM', 'AMZN.O', 'GOOGL.O', 'FB.O', 'MSFT.O']\n"
     ]
    }
   ],
   "source": [
    "print(co2)\n",
    "print(woman)\n",
    "print(instrument)"
   ]
  },
  {
   "cell_type": "markdown",
   "metadata": {},
   "source": [
    "Next step we need to get a company name for each instrument from the instrument list."
   ]
  },
  {
   "cell_type": "code",
   "execution_count": 23,
   "metadata": {},
   "outputs": [],
   "source": [
    "instrumentorg=np.array([])\n",
    "\n",
    "for val in instrument:\n",
    "    if GetRicName(val) is None:\n",
    "        instrumentorg=np.append(instrumentorg,val)\n",
    "    else:\n",
    "        instrumentorg=np.append(instrumentorg,GetRicName(val))"
   ]
  },
  {
   "cell_type": "markdown",
   "metadata": {},
   "source": [
    "Display instrument name."
   ]
  },
  {
   "cell_type": "code",
   "execution_count": 24,
   "metadata": {},
   "outputs": [
    {
     "name": "stdout",
     "output_type": "stream",
     "text": [
      "['International Business Machines Corp' 'Amazon.com Inc' 'Alphabet Inc'\n",
      " 'Facebook Inc' 'Microsoft Corp']\n"
     ]
    }
   ],
   "source": [
    "print(instrumentorg)"
   ]
  },
  {
   "cell_type": "markdown",
   "metadata": {},
   "source": [
    "The last step we construct dataframe for plotting the graph for displaying a data for **CO2 Emission Total** with a **Woman Managers** separately because of the difference between the scale of each data. We will be using the company name as an index."
   ]
  },
  {
   "cell_type": "code",
   "execution_count": 25,
   "metadata": {},
   "outputs": [
    {
     "data": {
      "text/plain": [
       "<matplotlib.axes._subplots.AxesSubplot at 0x1c29107fb70>"
      ]
     },
     "execution_count": 25,
     "metadata": {},
     "output_type": "execute_result"
    },
    {
     "data": {
      "image/png": "[encoded data removed]",
      "text/plain": [
       "<Figure size 432x288 with 1 Axes>"
      ]
     },
     "metadata": {
      "needs_background": "light"
     },
     "output_type": "display_data"
    }
   ],
   "source": [
    "df1 = pd.DataFrame({\"Woman Managers\":woman}, index=instrumentorg)\n",
    "df1.plot.barh(y='Woman Managers')"
   ]
  },
  {
   "cell_type": "markdown",
   "metadata": {},
   "source": [
    "It looks like currently we do not have \"Woman Managers\" report for IBM."
   ]
  },
  {
   "cell_type": "code",
   "execution_count": 26,
   "metadata": {},
   "outputs": [
    {
     "data": {
      "text/plain": [
       "<matplotlib.axes._subplots.AxesSubplot at 0x1c2910cef60>"
      ]
     },
     "execution_count": 26,
     "metadata": {},
     "output_type": "execute_result"
    },
    {
     "data": {
      "image/png": "[encoded data removed]",
      "text/plain": [
       "<Figure size 432x288 with 1 Axes>"
      ]
     },
     "metadata": {
      "needs_background": "light"
     },
     "output_type": "display_data"
    }
   ],
   "source": [
    "df2 = pd.DataFrame({\"CO2 Emission Total\":co2}, index=instrumentorg)\n",
    "df2.plot.barh(y='CO2 Emission Total',color=(0.5, 0.25, 0.15, 1))"
   ]
  },
  {
   "cell_type": "markdown",
   "metadata": {},
   "source": [
    "For CO2 Emision Totla, it looks like currently we do not have a CO2 report for Amazon.\n",
    "You can change or modify Python codes in this notebook to displaying data from other columns of the dataframe for basic or full ESG Score."
   ]
  },
  {
   "cell_type": "markdown",
   "metadata": {},
   "source": [
    "## REFERENCES\n",
    "\n",
    "* [Elektron Data Platform Document](https://developers.refinitiv.com/elektron-data-platform/elektron-data-platform-apis/docs)\n",
    "* [Elektron Data Platform Tutorial](https://developers.refinitiv.com/elektron-data-platform/elektron-data-platform-apis/learning)\n",
    "* [ESG User Guide](https://developers.refinitiv.com/elektron-data-platform/elektron-data-platform-apis/docs?content=62652&type=documentation_item)\n",
    "\n",
    "## DOWNLOADS\n",
    "* Github"
   ]
  },
  {
   "cell_type": "code",
   "execution_count": null,
   "metadata": {},
   "outputs": [],
   "source": []
  }
 ],
 "metadata": {
  "kernelspec": {
   "display_name": "Python 3",
   "language": "python",
   "name": "python3"
  },
  "language_info": {
   "codemirror_mode": {
    "name": "ipython",
    "version": 3
   },
   "file_extension": ".py",
   "mimetype": "text/x-python",
   "name": "python",
   "nbconvert_exporter": "python",
   "pygments_lexer": "ipython3",
   "version": "3.7.3"
  }
 },
 "nbformat": 4,
 "nbformat_minor": 2
}
