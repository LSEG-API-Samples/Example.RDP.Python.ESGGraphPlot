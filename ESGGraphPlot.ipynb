{
 "cells": [
  {
   "cell_type": "markdown",
   "metadata": {},
   "source": [
    "# Using EDP API to request ESG data on Jupyter Notebook\n",
    "\n",
    "## INTRODUCTION\n",
    "\n",
    "Environmental, Social and Governance (ESG) is a set of standards for a company's operations that investors use to evaluate corporate behavior, determine the future financial performance and decide whether it will be beneficial to invest in a company or not. The ESG information from Refinitv enables our clients to benchmark, compare and integrate extra-financial information into their investment processes to identify companies with quality management and reduced risk exposure. Please refer to the [ESG Learning Section](https://developers.refinitiv.com/elektron-data-platform/elektron-data-platform-apis/learning?content=62732&type=learning_material_item) on the [Developer Community](https://developers.refinitiv.com/) for more details about the ESG data and its coverage provided by Refinitiv.\n",
    "\n",
    "This article will demonstrate how we can retrieve [ESG data](https://developers.refinitiv.com/content/edp-esg-quick-start-video) from [Elektron Data Platform (EDP)](https://developers.refinitiv.com/elektron-data-platform/elektron-data-platform-apis). We will be using Python with EDP API to request ESG data on the [Jupyter Notebook](https://jupyter.org/index.html). The notebook allows the user to create and share documents that contain live code, narrative text, visualizations and we can also plot the graph on the notebook.\n",
    "\n",
    "The Jupyter Notebook with Python codes will be provided on GitHub.\n",
    "\n",
    "## PRE-REQUISITES:\n",
    "\n",
    "* Python 3.6 or later version.\n",
    "* Required Python Packages: getpass, json, requests, pandas, numpy, matplotlib.\n",
    "* [Jupyter Notebook](https://jupyter.org/install). You can install Jupyter Notebook on your local machine and then test the example on the machine. Alternate choice is a free Juputer Notebook on cloud environment such as [Azure Notebook](https://notebooks.azure.com/) provided by Microsoft. You can find more details from [this tutorial](https://docs.microsoft.com/en-us/azure/notebooks/tutorial-create-run-jupyter-notebook).If you are not familiar with Jupyter Notebook, the following [tutorial](https://www.datacamp.com/community/tutorials/tutorial-jupyter-notebook?utm_source=adwords_ppc&utm_campaignid=1455363063&utm_adgroupid=65083631748&utm_device=c&utm_keyword=&utm_matchtype=b&utm_network=g&utm_adpostion=1t1&utm_creative=332602034364&utm_targetid=aud-748597547652:dsa-473406581035&utm_loc_interest_ms=&utm_loc_physical_ms=1012728&gclid=CjwKCAjwiZnnBRBQEiwAcWKfYtOonT1GbauG4cpg4BYnMowI6EOcYxUAUTz_ywny2KjyBchUeULgGxoCkoEQAvD_BwE) created by DataCamp may help.\n",
    "* EDP account with a permission to access ESG basic or premium data. \n",
    "\n",
    "## IMPREMENTATIONS\n",
    "\n",
    "There are two main steps for the implementation according to [the tutorial](https://developers.refinitiv.com/elektron-data-platform/elektron-data-platform-apis/learning?content=62732&type=learning_material_item).\n",
    "\n",
    "* Get Access Token from EDP Authentication Endpoint.\n",
    "* Get specific ESG data like the basic score from the REST endpoint. \n",
    "* Display data and plot a graph.\n"
   ]
  },
  {
   "cell_type": "markdown",
   "metadata": {},
   "source": [
    "### Get Access Token\n",
    "\n",
    "__Get EDP Username and Password__\n",
    "\n",
    "The user must have a valid EDP account with a permission to access ESG data. The application will use getpass to get the username and password from user."
   ]
  },
  {
   "cell_type": "code",
   "execution_count": 1,
   "metadata": {
    "scrolled": false
   },
   "outputs": [
    {
     "name": "stdout",
     "output_type": "stream",
     "text": [
      "Enter EDP username:GE-A-XXX\n",
      "Enter EDP Password:········\n"
     ]
    }
   ],
   "source": [
    "import getpass as gp\n",
    "\n",
    "username=input('Enter EDP username:')\n",
    "password=gp.getpass('Enter EDP Password:')\n",
    "client_id=input('Enter client id or appKey:')"
   ]
  },
  {
   "cell_type": "markdown",
   "metadata": {},
   "source": [
    "__Get access token from authentication endpoint__\n",
    "\n",
    "The application send HTTP post and pass required parameter according to the [EDP tutorial](https://developers.refinitiv.com/elektron-data-platform/elektron-data-platform-apis/learning?content=38562&type=learning_material_item) to get the Access Token from EDP server.\n"
   ]
  },
  {
   "cell_type": "code",
   "execution_count": 2,
   "metadata": {},
   "outputs": [],
   "source": [
    "from json import dumps, loads, load\n",
    "from requests import post,get\n",
    "\n",
    "#Get access token from EDP server \n",
    "getTokenEndpoint=\"https://api.refinitiv.com/auth/oauth2/beta1/token\"\n",
    "refreshToken=None\n",
    "accessToken=None\n",
    "_header= {}\n",
    "_header['Accept']='application/json'\n",
    "_params={}\n",
    "\n",
    "if refreshToken is None:\n",
    "    _params={\n",
    "        \"username\": username,\n",
    "        \"password\": password,\n",
    "        \"client_id\": client_id,\n",
    "        \"grant_type\": \"password\",\n",
    "        \"scope\": \"trapi\",\n",
    "        \"takeExclusiveSignOnControl\": \"true\"\n",
    "    }\n",
    "else:\n",
    "    _params={\n",
    "\t\t\t\"refresh_token\": refreshToken,\n",
    "\t\t\t\"username\": username,\n",
    "\t\t\t\"grant_type\": \"refresh_token\"\n",
    "    }\n",
    "\n",
    "resp=post(url=getTokenEndpoint,data=_params,headers=_header,auth=(username,\"\"))"
   ]
  },
  {
   "cell_type": "markdown",
   "metadata": {},
   "source": [
    "If the returned status code from HTTP response is not 200 (OK), we assume that there is an error occurred, therefore, the application will print the status code and the response status message then exit the application. Otherwise, get the Refresh Token and Access Token from the HTTP response message and print it out."
   ]
  },
  {
   "cell_type": "code",
   "execution_count": 3,
   "metadata": {},
   "outputs": [
    {
     "name": "stdout",
     "output_type": "stream",
     "text": [
      "Refresh Token: dc9a90ee-f414-4919-b011-5239df29c771\n",
      "Access Token: eyJ0eXAiOiJKV1QiLCJhbGciOiJSUzI1NiIsImtpZCI6IjNKZnZZOWNYaEtoVndDRmU1a29MdWpPektQdnNtUnZ0TXRXMHZYYWpqVXcifQ.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.X5T7bPvH9fuGB5b_jfpGAQXKENQxUQrENT32Yv9dTmrg8dsq2_GdIC6qGLmEXil9wm-REIfNHZmGAGdHRBN-U085WnmcVVOryH2ctTZETj80mKmXaoIfIrMqVH884Ip37Q8c7tMKqte7OAJc8bwvMRJB2S_PTCxBpNvmuPCdHlw4UOhcKqEJMur7uJEgUXDVQEjOfxorv40Jq7pJO-GhG29LIrFw9EBTvbKa-iiB4B8IT1U_U7g4Pi-egcUcyAt9CwpihxlwEoPiAX7kZliDlPJqmaU0xW7Q-kRDbIHyCzzyRk82-spsXVYmD0EcUQXdETEVtXMSZlnhkSexql4V5w\n"
     ]
    }
   ],
   "source": [
    "if resp.status_code!=200:\n",
    "    print(\"Status Code:\",resp.status_code,\" Text:\",dumps(loads(resp.text),indent=4))\n",
    "    exit()\n",
    "else:\n",
    "    #print(dumps(loads(resp.text),indent=4))\n",
    "    from collections import OrderedDict\n",
    "    auth_object=loads(resp.text,object_pairs_hook=OrderedDict)\n",
    "    accessToken=auth_object[\"access_token\"]\n",
    "    refreshToken=auth_object[\"refresh_token\"]\n",
    "\n",
    "print(\"Refresh Token:\",refreshToken)\n",
    "print(\"Access Token:\",accessToken)"
   ]
  },
  {
   "cell_type": "markdown",
   "metadata": {},
   "source": [
    "### Retreive ESG score\n",
    "\n",
    "In this example, we want to retrieve the ESG Score standard. The score standard operation returns all available scores for a company with three years of historical data. Application has to use the following Endpoint to retrieve the data.\n",
    "\n",
    "```html\n",
    "https://api.refinitiv.com/data/environmental-social-governance/v1/views/scores-standard\n",
    "```\n",
    "There is an alternate option for a professional account to get ESG data with full score and it returns scores with full history. The user can use the following Endpoint instead.\n",
    "\n",
    "```html\n",
    "https://api.refinitiv.com/data/environmental-social-governance/v1/views/scores-full\n",
    "```\n",
    "The application has to send the server certain GET parameters through the requested endpoint/URL. In this case, it has to pass a universe as HTTP get parameters. The universe could be RIC name or ISIN or any other supported value.  \n",
    "The application needs to set a Bearer access token in the Authorization header of the HTTP request message. See below snippet of codes for the API usage to request full ESG score for the RIC MSFT.O."
   ]
  },
  {
   "cell_type": "code",
   "execution_count": 4,
   "metadata": {},
   "outputs": [],
   "source": [
    "ricList=\"MSFT.O\"\n",
    "esgScoreFullEndpoint=\"https://api.refinitiv.com/data/environmental-social-governance/v1/views/scores-full?universe=\"\n",
    "resp=get(url=esgScoreFullEndpoint+ricList,headers={\"Authorization\": \"Bearer \" + accessToken})\n",
    "\n",
    "if resp.status_code!=200:\n",
    "    print(\"Status Code:\",resp.status_code,\" Text:\",dumps(loads(resp.text),indent=4))\n",
    "    exit()\n",
    "\n",
    "esg_object=loads(resp.text)"
   ]
  },
  {
   "cell_type": "markdown",
   "metadata": {},
   "source": [
    "To process the ESG data, we need to convert the data from JSON object to a pandas data frame. The application need to get the data and column name from JSON object and then re-construct a new dataframe. The applicaiton need to converts the title from a header to numpy arrary and convert data array to numpy array as well. "
   ]
  },
  {
   "cell_type": "code",
   "execution_count": 5,
   "metadata": {},
   "outputs": [],
   "source": [
    "import pandas as pd\n",
    "import numpy as np\n",
    "headers=esg_object['headers']\n",
    "#Get column headers/titles using lambda\n",
    "titles=map(lambda header:header['title'], headers)\n",
    "\n",
    "dataArray=np.array(esg_object['data'])\n",
    "df=pd.DataFrame(data=dataArray,columns=titles)\n"
   ]
  },
  {
   "cell_type": "markdown",
   "metadata": {},
   "source": [
    "It should return the data like the following sample output."
   ]
  },
  {
   "cell_type": "code",
   "execution_count": 6,
   "metadata": {},
   "outputs": [
    {
     "name": "stdout",
     "output_type": "stream",
     "text": [
      "  Instrument Period End Date ESG Combined Score ESG Score  \\\n",
      "0     MSFT.O      2017-06-30            46.6804    92.562   \n",
      "1     MSFT.O      2016-06-30            48.0422   94.0624   \n",
      "2     MSFT.O      2015-06-30            47.5251   91.3466   \n",
      "3     MSFT.O      2014-06-30            46.9312   92.4831   \n",
      "4     MSFT.O      2013-06-30            46.8503   92.5378   \n",
      "5     MSFT.O      2012-06-30            44.6957    86.849   \n",
      "6     MSFT.O      2011-06-30            45.8681   90.4319   \n",
      "7     MSFT.O      2010-06-30            46.4804   91.6676   \n",
      "8     MSFT.O      2009-06-30            46.3006   91.1449   \n",
      "9     MSFT.O      2008-06-30            44.3057   85.6702   \n",
      "\n",
      "  ESG Controversies Score Environment Pillar Score Social Pillar Score  \\\n",
      "0                0.798722                  89.4616             95.1604   \n",
      "1                 2.02206                  90.3817             96.0051   \n",
      "2                  3.7037                  89.4336              95.403   \n",
      "3                 1.37931                  85.5071              98.101   \n",
      "4                 1.16279                  88.2581             98.3077   \n",
      "5                 2.54237                  86.3784             98.5319   \n",
      "6                 1.30435                  88.9642             93.1231   \n",
      "7                  1.2931                  88.7551             95.0704   \n",
      "8                 1.45631                  89.9914             91.1869   \n",
      "9                 2.94118                   89.481             92.2038   \n",
      "\n",
      "  Governance Pillar Score Resource Use Score Emissions Score Innovation Score  \\\n",
      "0                 92.9939            99.2013         82.5879          87.2204   \n",
      "1                 95.9044            99.4485          84.375          87.8676   \n",
      "2                 88.7577            98.8426         84.4907          85.4167   \n",
      "3                 93.7208            98.2759         77.5862          81.3793   \n",
      "4                 90.5929            97.2868         88.7597          78.6822   \n",
      "5                 73.7755            98.7288          84.322          76.2712   \n",
      "6                 88.9357            99.5652         88.2609          79.1304   \n",
      "7                 90.9538             99.569            87.5          79.3103   \n",
      "8                 92.3818            97.5728         90.7767          81.5534   \n",
      "9                 73.8175            98.2353         85.2941          85.2941   \n",
      "\n",
      "  Workforce Score Human Rights Score Community Score  \\\n",
      "0         97.9233            96.0064         87.8594   \n",
      "1         98.7132            97.6103         87.3162   \n",
      "2         92.3611            98.1481         99.7685   \n",
      "3         99.6552            98.2759         98.9655   \n",
      "4         98.8372            98.4496          98.062   \n",
      "5         98.7288            99.1525         98.7288   \n",
      "6         91.7391            98.6957         88.2609   \n",
      "7         96.9828            99.1379         85.7759   \n",
      "8         98.5437            96.6019         70.3883   \n",
      "9         95.8824            93.5294         82.9412   \n",
      "\n",
      "  Product Responsibility Score Management Score Shareholders Score  \\\n",
      "0                      96.6454          94.0934            86.0479   \n",
      "1                      98.7132          98.4124            86.9814   \n",
      "2                      95.6019          86.5225             88.359   \n",
      "3                      93.4483          91.6667            96.1577   \n",
      "4                      97.2868          89.8279            92.9656   \n",
      "5                      97.4576          61.8583            95.5339   \n",
      "6                      98.2609          87.1546            97.1853   \n",
      "7                      98.7069          90.1416            95.5005   \n",
      "8                      94.6602           89.553             97.869   \n",
      "9                      93.5294          74.1803             61.534   \n",
      "\n",
      "  CSR Strategy Score ESG Reporting Scope ESG Period Last Update Date  \n",
      "0            99.1562                 100         2019-04-19T00:00:00  \n",
      "1            99.1956                 100         2019-04-19T00:00:00  \n",
      "2            98.8152                 100         2019-04-19T00:00:00  \n",
      "3            98.6028                 100         2019-04-26T00:00:00  \n",
      "4            90.1316                 100         2019-04-26T00:00:00  \n",
      "5            90.2464                 100         2019-04-26T00:00:00  \n",
      "6            83.6233                 100         2019-03-01T00:00:00  \n",
      "7            87.3104                 100         2019-03-01T00:00:00  \n",
      "8              95.79                None         2018-12-19T00:00:00  \n",
      "9            91.3934                None         2018-12-17T00:00:00  \n"
     ]
    }
   ],
   "source": [
    "if df.empty is False:\n",
    "    print(df.head(10))"
   ]
  },
  {
   "cell_type": "markdown",
   "metadata": {},
   "source": [
    "### Plot Graph from ESG Score\n",
    "\n",
    "To compare specific ESG data between the years, Jupyter Notebook user may use the mathplotlib to plot the graph.\n",
    "\n",
    "For this example, we want to compare columns \"ESG Score\",\"ESG Combined Score\" and \"Innovation Score\" between the years. I have to create a new data frame from the origina data frame df using the following codes."
   ]
  },
  {
   "cell_type": "code",
   "execution_count": 7,
   "metadata": {},
   "outputs": [],
   "source": [
    "dataPlot=pd.DataFrame(df,columns=['Instrument','Period End Date','ESG Score','ESG Combined Score','Innovation Score'])"
   ]
  },
  {
   "cell_type": "markdown",
   "metadata": {},
   "source": [
    "The data for the Y-axis is a Period End Date and the X-axis is the ESG scores. We want to display only the year (eg \"2017\", \"2016\") therefore we need to reformat the data in \"Period End Date\" column using below codes. The example also sorting the year ascending. \n",
    "\n",
    "Note that you can change the column in dataPlot to plot the graph for specific data you want. If you have permission to request only a basic score you might need to change the column accordingly."
   ]
  },
  {
   "cell_type": "code",
   "execution_count": 8,
   "metadata": {},
   "outputs": [],
   "source": [
    "dataPlot['Period End Date']= dataPlot['Period End Date'].str.split('-').str[0]\n",
    "dataPlot.sort_values('Period End Date',ascending=True,inplace=True)"
   ]
  },
  {
   "cell_type": "markdown",
   "metadata": {},
   "source": [
    "It will be displaying the following sample graphs on the notebook."
   ]
  },
  {
   "cell_type": "code",
   "execution_count": 10,
   "metadata": {},
   "outputs": [
    {
     "data": {
      "text/plain": [
       "<matplotlib.axes._subplots.AxesSubplot at 0x233431e7438>"
      ]
     },
     "execution_count": 10,
     "metadata": {},
     "output_type": "execute_result"
    },
    {
     "data": {
      "image/png": "[encoded data removed]",
      "text/plain": [
       "<Figure size 1008x504 with 1 Axes>"
      ]
     },
     "metadata": {
      "needs_background": "light"
     },
     "output_type": "display_data"
    },
    {
     "data": {
      "image/png": "[encoded data removed]",
      "text/plain": [
       "<Figure size 1008x504 with 1 Axes>"
      ]
     },
     "metadata": {
      "needs_background": "light"
     },
     "output_type": "display_data"
    }
   ],
   "source": [
    "dataPlot.plot(x='Period End Date',y=['ESG Score','ESG Combined Score','Innovation Score'],figsize=(14,7))\n",
    "dataPlot.plot(x='Period End Date',y=['ESG Score','ESG Combined Score','Innovation Score'],kind='bar',figsize=(14,7))"
   ]
  },
  {
   "cell_type": "markdown",
   "metadata": {},
   "source": [
    "### Compare ESG Score for multiple universe\n",
    "\n",
    "The next step, I'm interested in comparing the value of a number of Woman Manager and CO2 Emission Total used by a top tech company such as Microsoft, IBM, Facebook, Google/Alphabet, and Amazon. \n",
    "\n",
    "Based on the details from EDP Swagger page,  we can get the data using basic score endpoint and we just need to pass a list of RIC for each company as a universe parameters. Below are a snippet of codes to demonstrate the API usage."
   ]
  },
  {
   "cell_type": "code",
   "execution_count": 11,
   "metadata": {},
   "outputs": [],
   "source": [
    "ricList=\"IBM,AMZN.O,MSFT.O,GOOGL.O,FB.O,APPL.O\"\n",
    "esgฺBasicEndpoint=\"https://api.refinitiv.com/data/environmental-social-governance/v1/views/basic?universe=\"\n",
    "resp=get(url=esgฺBasicEndpoint+ricList,headers={\"Authorization\": \"Bearer \" + accessToken})\n",
    "if resp.status_code!=200:\n",
    "    print(\"Status Code:\",resp.status_code,\" Text:\",dumps(loads(resp.text),indent=4))\n",
    "    exit()\n",
    "\n",
    "esg_BasicObject=loads(resp.text)\n",
    "\n",
    "headers=esg_BasicObject['headers']\n",
    "\n",
    "#Get column headers/titles using lambda\n",
    "titles=map(lambda header:header['title'], headers)\n",
    "\n",
    "basicDataArray=np.array(esg_BasicObject['data'])\n",
    "basicDf=pd.DataFrame(data=basicDataArray,columns=titles)"
   ]
  },
  {
   "cell_type": "markdown",
   "metadata": {},
   "source": [
    "Print sample basic score result."
   ]
  },
  {
   "cell_type": "code",
   "execution_count": 12,
   "metadata": {},
   "outputs": [
    {
     "name": "stdout",
     "output_type": "stream",
     "text": [
      "  Instrument Period End Date ESG Reporting Scope  \\\n",
      "0        IBM      2017-12-31                 100   \n",
      "1     AMZN.O      2017-12-31                 100   \n",
      "2    GOOGL.O      2017-12-31                 100   \n",
      "3       FB.O      2017-12-31                 100   \n",
      "4     MSFT.O      2017-06-30                 100   \n",
      "\n",
      "              ESG Report Auditor Name ESG Period Last Update Date  \\\n",
      "0                                None         2019-03-30T00:00:00   \n",
      "1                                None         2019-05-11T00:00:00   \n",
      "2                                None         2019-05-18T00:00:00   \n",
      "3  Bureau Veritas North America, Inc.         2019-05-04T00:00:00   \n",
      "4                                None         2019-04-19T00:00:00   \n",
      "\n",
      "  CO2 Equivalents Emission Total Women Managers Average Training Hours  \n",
      "0                        1496517           None                 59.578  \n",
      "1                           None             26                   None  \n",
      "2                        3367941           25.5                   None  \n",
      "3                         638000             28                   None  \n",
      "4                        2790348           19.1                   None  \n"
     ]
    }
   ],
   "source": [
    "if basicDf.empty is False:\n",
    "    print(basicDf.head(10))"
   ]
  },
  {
   "cell_type": "markdown",
   "metadata": {},
   "source": [
    "__Display Componay Name__\n",
    "\n",
    "We have an additional requirement to display Company Name rather than using RIC codes. Basically, the data returned by the ESG basic score has only an Instrument name but it does not have a company named. Therefore, I need to create a function for getting the company name from ESG universe data. I found that the ESG universe endpoint can provide the company names that I want. I will use it later when I plot the graph. Anyway, we found that we can't find some RIC code using the universe Endpoint so it will return the original RIC name instead.\n"
   ]
  },
  {
   "cell_type": "code",
   "execution_count": 13,
   "metadata": {},
   "outputs": [],
   "source": [
    "esgUniverseEndpoint=\"https://api.refinitiv.com/data/environmental-social-governance/v1/universe\"\n",
    "\n",
    "resp=get(url=esgUniverseEndpoint,headers={\"Authorization\": \"Bearer \" + accessToken})\n",
    "if resp.status_code!=200:\n",
    "    print(\"Status Code:\",resp.status_code,\" Text:\",dumps(loads(resp.text),indent=4))\n",
    "    exit()\n",
    "\n",
    "esg_universe = loads(resp.text)\n",
    "\n",
    "def GetRicName(ricName):\n",
    "    if 'data' in esg_universe:\n",
    "        searchItem = list(filter(lambda data: data[1]==ricName, list(esg_universe['data'])))\n",
    "        if len(searchItem)>0:\n",
    "            return searchItem[0][2]\n",
    "    return None\n",
    "\n"
   ]
  },
  {
   "cell_type": "markdown",
   "metadata": {},
   "source": [
    "Display Company Name for MSFT.O ric."
   ]
  },
  {
   "cell_type": "code",
   "execution_count": 15,
   "metadata": {},
   "outputs": [
    {
     "name": "stdout",
     "output_type": "stream",
     "text": [
      "MSFT.O is \"Microsoft Corp\"\n"
     ]
    }
   ],
   "source": [
    "if GetRicName('MSFT.O') is not None:\n",
    "    print(\"MSFT.O is \\\"\"+ GetRicName(\"MSFT.O\")+\"\\\"\")\n",
    "else:\n",
    "    print(\"Unable to find name for MSFT.O\")"
   ]
  },
  {
   "cell_type": "markdown",
   "metadata": {},
   "source": [
    "Next step we will be using the data from a **basicDf** dataframe to plot horizontal bar chart for comparing a **Woman Managers** and **CO2 Emission Total** from each company. Base on a result from a dataframe, we found that column number 5 is a data for \"**CO2 Equivalents Emission Total**\" and column number 6 is a data for \"**Women Managers**\", then we will use the index to extract the data. Below are the codes we use to extract both data from the data frame."
   ]
  },
  {
   "cell_type": "code",
   "execution_count": 16,
   "metadata": {},
   "outputs": [],
   "source": [
    "# Extract CO2, Woman Manager and Instrument from the dataframe and convert to numpy array\n",
    "co2= [val for sublist in np.array(basicDf.iloc[:,5:6]) for val in sublist]\n",
    "\n",
    "woman=[val for sublist in np.array(basicDf.iloc[:,6:7]) for val in sublist] \n",
    "\n",
    "instrument=[val for sublist in np.array(basicDf.iloc[:,0:1]) for val in sublist]  \n"
   ]
  },
  {
   "cell_type": "markdown",
   "metadata": {},
   "source": [
    "Print data inside co2,woman and instrument variable."
   ]
  },
  {
   "cell_type": "code",
   "execution_count": 17,
   "metadata": {},
   "outputs": [
    {
     "name": "stdout",
     "output_type": "stream",
     "text": [
      "[1496517, None, 3367941, 638000, 2790348]\n",
      "[None, 26, 25.5, 28, 19.1]\n",
      "['IBM', 'AMZN.O', 'GOOGL.O', 'FB.O', 'MSFT.O']\n"
     ]
    }
   ],
   "source": [
    "print(co2)\n",
    "print(woman)\n",
    "print(instrument)"
   ]
  },
  {
   "cell_type": "markdown",
   "metadata": {},
   "source": [
    "Next step we need to get a company name for each instrument from the instrument list."
   ]
  },
  {
   "cell_type": "code",
   "execution_count": 18,
   "metadata": {},
   "outputs": [],
   "source": [
    "instrumentorg=np.array([])\n",
    "\n",
    "for val in instrument:\n",
    "    if GetRicName(val) is None:\n",
    "        instrumentorg=np.append(instrumentorg,val)\n",
    "    else:\n",
    "        instrumentorg=np.append(instrumentorg,GetRicName(val))"
   ]
  },
  {
   "cell_type": "markdown",
   "metadata": {},
   "source": [
    "Display instrument name."
   ]
  },
  {
   "cell_type": "code",
   "execution_count": 19,
   "metadata": {},
   "outputs": [
    {
     "name": "stdout",
     "output_type": "stream",
     "text": [
      "['International Business Machines Corp' 'Amazon.com Inc' 'Alphabet Inc'\n",
      " 'Facebook Inc' 'Microsoft Corp']\n"
     ]
    }
   ],
   "source": [
    "print(instrumentorg)"
   ]
  },
  {
   "cell_type": "markdown",
   "metadata": {},
   "source": [
    "The last step we construct dataframe for plotting the graph for displaying a data for **CO2 Emission Total** with a **Woman Managers** separately because of the difference between the scale of each data. We will be using the company name as an index."
   ]
  },
  {
   "cell_type": "code",
   "execution_count": 20,
   "metadata": {},
   "outputs": [
    {
     "data": {
      "text/plain": [
       "<matplotlib.axes._subplots.AxesSubplot at 0x233434d2f28>"
      ]
     },
     "execution_count": 20,
     "metadata": {},
     "output_type": "execute_result"
    },
    {
     "data": {
      "image/png": "[encoded data removed]",
      "text/plain": [
       "<Figure size 432x288 with 1 Axes>"
      ]
     },
     "metadata": {
      "needs_background": "light"
     },
     "output_type": "display_data"
    }
   ],
   "source": [
    "df1 = pd.DataFrame({\"Woman Managers\":woman}, index=instrumentorg)\n",
    "df1.plot.barh(y='Woman Managers')"
   ]
  },
  {
   "cell_type": "markdown",
   "metadata": {},
   "source": [
    "It looks like currently we do not have \"Woman Managers\" report for IBM."
   ]
  },
  {
   "cell_type": "code",
   "execution_count": 21,
   "metadata": {},
   "outputs": [
    {
     "data": {
      "text/plain": [
       "<matplotlib.axes._subplots.AxesSubplot at 0x2334285a198>"
      ]
     },
     "execution_count": 21,
     "metadata": {},
     "output_type": "execute_result"
    },
    {
     "data": {
      "image/png": "[encoded data removed]",
      "text/plain": [
       "<Figure size 432x288 with 1 Axes>"
      ]
     },
     "metadata": {
      "needs_background": "light"
     },
     "output_type": "display_data"
    }
   ],
   "source": [
    "df2 = pd.DataFrame({\"CO2 Emission Total\":co2}, index=instrumentorg)\n",
    "df2.plot.barh(y='CO2 Emission Total',color=(0.5, 0.25, 0.15, 1))"
   ]
  },
  {
   "cell_type": "markdown",
   "metadata": {},
   "source": [
    "For CO2 Emision Totla, it looks like currently we do not have a CO2 report for Amazon.\n",
    "You can change or modify Python codes in this notebook to displaying data from other columns of the dataframe for basic or full ESG Score."
   ]
  },
  {
   "cell_type": "markdown",
   "metadata": {},
   "source": [
    "## REFERENCES\n",
    "\n",
    "* [Elektron Data Platform Document](https://developers.refinitiv.com/elektron-data-platform/elektron-data-platform-apis/docs)\n",
    "* [Elektron Data Platform Tutorial](https://developers.refinitiv.com/elektron-data-platform/elektron-data-platform-apis/learning)\n",
    "* [ESG User Guide](https://developers.refinitiv.com/elektron-data-platform/elektron-data-platform-apis/docs?content=62652&type=documentation_item)\n",
    "\n",
    "## DOWNLOADS\n",
    "* [Github](https://github.com/TR-API-Samples/Example.EDP.Python.ESGGraphPlot)"
   ]
  },
  {
   "cell_type": "code",
   "execution_count": null,
   "metadata": {},
   "outputs": [],
   "source": []
  }
 ],
 "metadata": {
  "kernelspec": {
   "display_name": "Python 3",
   "language": "python",
   "name": "python3"
  },
  "language_info": {
   "codemirror_mode": {
    "name": "ipython",
    "version": 3
   },
   "file_extension": ".py",
   "mimetype": "text/x-python",
   "name": "python",
   "nbconvert_exporter": "python",
   "pygments_lexer": "ipython3",
   "version": "3.7.3"
  }
 },
 "nbformat": 4,
 "nbformat_minor": 2
}